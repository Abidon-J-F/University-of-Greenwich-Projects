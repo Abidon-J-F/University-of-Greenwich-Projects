{
 "cells": [
  {
   "cell_type": "markdown",
   "metadata": {},
   "source": [
    "# 3 Layer CNN Handwriting Text Recognition"
   ]
  },
  {
   "cell_type": "markdown",
   "metadata": {},
   "source": [
    "Inspiration was based on https://www.kaggle.com/code/aman10kr/offline-handwritten-text-ocr\n",
    "\n",
    "Dataset from: https://www.kaggle.com/datasets/landlord/handwriting-recognition"
   ]
  },
  {
   "cell_type": "code",
   "execution_count": 1,
   "metadata": {},
   "outputs": [
    {
     "name": "stdout",
     "output_type": "stream",
     "text": [
      "Num GPUs Available:  1\n"
     ]
    }
   ],
   "source": [
    "import tensorflow as tf\n",
    "\n",
    "gpus = tf.config.experimental.list_physical_devices('GPU')\n",
    "print(\"Num GPUs Available: \", len(gpus))"
   ]
  },
  {
   "cell_type": "code",
   "execution_count": 2,
   "metadata": {},
   "outputs": [],
   "source": [
    "tf.config.experimental.set_memory_growth(gpus[0],True)"
   ]
  },
  {
   "cell_type": "code",
   "execution_count": 3,
   "metadata": {},
   "outputs": [
    {
     "name": "stdout",
     "output_type": "stream",
     "text": [
      "Collecting imutils\n",
      "  Using cached imutils-0.5.4-py3-none-any.whl\n",
      "Installing collected packages: imutils\n",
      "Successfully installed imutils-0.5.4\n"
     ]
    }
   ],
   "source": [
    "!pip install imutils"
   ]
  },
  {
   "cell_type": "code",
   "execution_count": 3,
   "metadata": {
    "_cell_guid": "79c7e3d0-c299-4dcb-8224-4455121ee9b0",
    "_uuid": "d629ff2d2480ee46fbb7e2d37f6b5fab8052498a"
   },
   "outputs": [],
   "source": [
    "import numpy as np\n",
    "import pandas as pd\n",
    "from keras.preprocessing.image import ImageDataGenerator\n",
    "import re\n",
    "import os\n",
    "import random \n",
    "import cv2\n",
    "import imutils\n",
    "import matplotlib.pyplot as plt\n",
    "import seaborn as sns\n",
    "from sklearn.preprocessing import LabelBinarizer\n",
    "from keras.utils import np_utils\n",
    "from keras.models import Sequential\n",
    "from keras import optimizers\n",
    "from sklearn.preprocessing import LabelBinarizer\n",
    "from keras import backend as K\n",
    "from keras.layers import Dense, Activation, Flatten, Dense,MaxPooling2D, Dropout\n",
    "from keras.layers import Conv2D, MaxPooling2D, BatchNormalization"
   ]
  },
  {
   "cell_type": "code",
   "execution_count": 4,
   "metadata": {},
   "outputs": [],
   "source": [
    "train_dir = r'(your drive name):/(your name)/(your folder)/(your folder)/Train'\n",
    "train_data = []\n",
    "img_size = 32\n",
    "non_chars = [\"#\",\"$\",\"&\",\"@\"]\n",
    "for i in os.listdir(train_dir):\n",
    "    if i in non_chars:\n",
    "        continue\n",
    "    count = 0\n",
    "    sub_directory = os.path.join(train_dir,i)\n",
    "    for j in os.listdir(sub_directory):\n",
    "        count+=1\n",
    "        if count > 4000:\n",
    "            break\n",
    "        img = cv2.imread(os.path.join(sub_directory,j),0)\n",
    "        img = cv2.resize(img,(img_size,img_size))\n",
    "        train_data.append([img,i])"
   ]
  },
  {
   "cell_type": "code",
   "execution_count": 5,
   "metadata": {},
   "outputs": [
    {
     "data": {
      "text/plain": [
       "140000"
      ]
     },
     "execution_count": 5,
     "metadata": {},
     "output_type": "execute_result"
    }
   ],
   "source": [
    "len(train_data)"
   ]
  },
  {
   "cell_type": "code",
   "execution_count": 6,
   "metadata": {},
   "outputs": [],
   "source": [
    "val_dir = r'(your drive name):/(your name)/(your folder)/(your folder)\\Validation'\n",
    "val_data = []\n",
    "img_size = 32\n",
    "for i in os.listdir(val_dir):\n",
    "    if i in non_chars:\n",
    "        continue\n",
    "    count = 0\n",
    "    sub_directory = os.path.join(val_dir,i)\n",
    "    for j in os.listdir(sub_directory):\n",
    "        count+=1\n",
    "        if count > 1000:\n",
    "            break\n",
    "        img = cv2.imread(os.path.join(sub_directory,j),0)\n",
    "        img = cv2.resize(img,(img_size,img_size))\n",
    "        val_data.append([img,i])"
   ]
  },
  {
   "cell_type": "code",
   "execution_count": 7,
   "metadata": {},
   "outputs": [
    {
     "data": {
      "text/plain": [
       "15209"
      ]
     },
     "execution_count": 7,
     "metadata": {},
     "output_type": "execute_result"
    }
   ],
   "source": [
    "len(val_data)"
   ]
  },
  {
   "cell_type": "code",
   "execution_count": 8,
   "metadata": {},
   "outputs": [],
   "source": [
    "random.shuffle(train_data)\n",
    "random.shuffle(val_data)"
   ]
  },
  {
   "cell_type": "code",
   "execution_count": 9,
   "metadata": {},
   "outputs": [],
   "source": [
    "train_X = []\n",
    "train_Y = []\n",
    "for features,label in train_data:\n",
    "    train_X.append(features)\n",
    "    train_Y.append(label)"
   ]
  },
  {
   "cell_type": "code",
   "execution_count": 10,
   "metadata": {},
   "outputs": [],
   "source": [
    "val_X = []\n",
    "val_Y = []\n",
    "for features,label in val_data:\n",
    "    val_X.append(features)\n",
    "    val_Y.append(label)"
   ]
  },
  {
   "cell_type": "code",
   "execution_count": 11,
   "metadata": {},
   "outputs": [],
   "source": [
    "LB = LabelBinarizer()\n",
    "train_Y = LB.fit_transform(train_Y)\n",
    "val_Y = LB.fit_transform(val_Y)"
   ]
  },
  {
   "cell_type": "code",
   "execution_count": 12,
   "metadata": {},
   "outputs": [],
   "source": [
    "train_X = np.array(train_X)/255.0\n",
    "train_X = train_X.reshape(-1,32,32,1)\n",
    "train_Y = np.array(train_Y)"
   ]
  },
  {
   "cell_type": "code",
   "execution_count": 13,
   "metadata": {},
   "outputs": [],
   "source": [
    "val_X = np.array(val_X)/255.0\n",
    "val_X = val_X.reshape(-1,32,32,1)\n",
    "val_Y = np.array(val_Y)"
   ]
  },
  {
   "cell_type": "code",
   "execution_count": 14,
   "metadata": {},
   "outputs": [
    {
     "name": "stdout",
     "output_type": "stream",
     "text": [
      "(140000, 32, 32, 1) (15209, 32, 32, 1)\n"
     ]
    }
   ],
   "source": [
    "print(train_X.shape,val_X.shape)"
   ]
  },
  {
   "cell_type": "code",
   "execution_count": 15,
   "metadata": {},
   "outputs": [
    {
     "name": "stdout",
     "output_type": "stream",
     "text": [
      "(140000, 35) (15209, 35)\n"
     ]
    }
   ],
   "source": [
    "print(train_Y.shape,val_Y.shape)"
   ]
  },
  {
   "cell_type": "code",
   "execution_count": 16,
   "metadata": {},
   "outputs": [],
   "source": [
    "#3 Layer CNN Model\n",
    "model = Sequential()\n",
    "\n",
    "model.add(Conv2D(32, (3, 3), padding = \"same\", activation='relu', input_shape=(32,32,1)))\n",
    "model.add(MaxPooling2D(pool_size=(2,2)))\n",
    "model.add(Conv2D(64, (3, 3), activation='relu'))\n",
    "model.add(MaxPooling2D(pool_size=(2,2)))\n",
    "model.add(Conv2D(128, (3, 3), activation='relu'))\n",
    "model.add(MaxPooling2D(pool_size=(2,2)))\n",
    "model.add(Dropout(0.25))\n",
    " \n",
    "model.add(Flatten())\n",
    "model.add(Dense(128, activation='relu'))\n",
    "model.add(Dropout(0.2))\n",
    "model.add(Dense(35, activation='softmax'))"
   ]
  },
  {
   "cell_type": "code",
   "execution_count": 17,
   "metadata": {},
   "outputs": [
    {
     "name": "stdout",
     "output_type": "stream",
     "text": [
      "Model: \"sequential\"\n",
      "_________________________________________________________________\n",
      "Layer (type)                 Output Shape              Param #   \n",
      "=================================================================\n",
      "conv2d (Conv2D)              (None, 32, 32, 32)        320       \n",
      "_________________________________________________________________\n",
      "max_pooling2d (MaxPooling2D) (None, 16, 16, 32)        0         \n",
      "_________________________________________________________________\n",
      "conv2d_1 (Conv2D)            (None, 14, 14, 64)        18496     \n",
      "_________________________________________________________________\n",
      "max_pooling2d_1 (MaxPooling2 (None, 7, 7, 64)          0         \n",
      "_________________________________________________________________\n",
      "conv2d_2 (Conv2D)            (None, 5, 5, 128)         73856     \n",
      "_________________________________________________________________\n",
      "max_pooling2d_2 (MaxPooling2 (None, 2, 2, 128)         0         \n",
      "_________________________________________________________________\n",
      "dropout (Dropout)            (None, 2, 2, 128)         0         \n",
      "_________________________________________________________________\n",
      "flatten (Flatten)            (None, 512)               0         \n",
      "_________________________________________________________________\n",
      "dense (Dense)                (None, 128)               65664     \n",
      "_________________________________________________________________\n",
      "dropout_1 (Dropout)          (None, 128)               0         \n",
      "_________________________________________________________________\n",
      "dense_1 (Dense)              (None, 35)                4515      \n",
      "=================================================================\n",
      "Total params: 162,851\n",
      "Trainable params: 162,851\n",
      "Non-trainable params: 0\n",
      "_________________________________________________________________\n"
     ]
    }
   ],
   "source": [
    "model.summary()"
   ]
  },
  {
   "cell_type": "code",
   "execution_count": 18,
   "metadata": {},
   "outputs": [],
   "source": [
    "model.compile(loss='categorical_crossentropy', optimizer=\"adam\",metrics=['accuracy'])"
   ]
  },
  {
   "cell_type": "code",
   "execution_count": 19,
   "metadata": {
    "scrolled": false
   },
   "outputs": [
    {
     "name": "stdout",
     "output_type": "stream",
     "text": [
      "Epoch 1/60\n",
      "1094/1094 [==============================] - 14s 8ms/step - loss: 1.2282 - accuracy: 0.6385 - val_loss: 0.7016 - val_accuracy: 0.8409\n",
      "Epoch 2/60\n",
      "1094/1094 [==============================] - 7s 7ms/step - loss: 0.3398 - accuracy: 0.8808 - val_loss: 0.6347 - val_accuracy: 0.8557\n",
      "Epoch 3/60\n",
      "1094/1094 [==============================] - 7s 7ms/step - loss: 0.2826 - accuracy: 0.8982 - val_loss: 0.6281 - val_accuracy: 0.8532\n",
      "Epoch 4/60\n",
      "1094/1094 [==============================] - 8s 7ms/step - loss: 0.2548 - accuracy: 0.9073 - val_loss: 0.6271 - val_accuracy: 0.8751\n",
      "Epoch 5/60\n",
      "1094/1094 [==============================] - 7s 7ms/step - loss: 0.2378 - accuracy: 0.9119 - val_loss: 0.6306 - val_accuracy: 0.8675\n",
      "Epoch 6/60\n",
      "1094/1094 [==============================] - 8s 7ms/step - loss: 0.2200 - accuracy: 0.9182 - val_loss: 0.5957 - val_accuracy: 0.8659\n",
      "Epoch 7/60\n",
      "1094/1094 [==============================] - 7s 7ms/step - loss: 0.2097 - accuracy: 0.9209 - val_loss: 0.6288 - val_accuracy: 0.8730\n",
      "Epoch 8/60\n",
      "1094/1094 [==============================] - 8s 7ms/step - loss: 0.2000 - accuracy: 0.9240 - val_loss: 0.6558 - val_accuracy: 0.8667\n",
      "Epoch 9/60\n",
      "1094/1094 [==============================] - 7s 7ms/step - loss: 0.1949 - accuracy: 0.9262 - val_loss: 0.6573 - val_accuracy: 0.8592\n",
      "Epoch 10/60\n",
      "1094/1094 [==============================] - 7s 7ms/step - loss: 0.1856 - accuracy: 0.9276 - val_loss: 0.6262 - val_accuracy: 0.8633\n",
      "Epoch 11/60\n",
      "1094/1094 [==============================] - 8s 7ms/step - loss: 0.1819 - accuracy: 0.9299 - val_loss: 0.6099 - val_accuracy: 0.8803\n",
      "Epoch 12/60\n",
      "1094/1094 [==============================] - 8s 7ms/step - loss: 0.1792 - accuracy: 0.9303 - val_loss: 0.6168 - val_accuracy: 0.8742\n",
      "Epoch 13/60\n",
      "1094/1094 [==============================] - 8s 7ms/step - loss: 0.1715 - accuracy: 0.9336 - val_loss: 0.6360 - val_accuracy: 0.8784\n",
      "Epoch 14/60\n",
      "1094/1094 [==============================] - 7s 7ms/step - loss: 0.1662 - accuracy: 0.9345 - val_loss: 0.6257 - val_accuracy: 0.8797\n",
      "Epoch 15/60\n",
      "1094/1094 [==============================] - 8s 7ms/step - loss: 0.1648 - accuracy: 0.9354 - val_loss: 0.6408 - val_accuracy: 0.8847\n",
      "Epoch 16/60\n",
      "1094/1094 [==============================] - 7s 7ms/step - loss: 0.1618 - accuracy: 0.9365 - val_loss: 0.6751 - val_accuracy: 0.8795\n",
      "Epoch 17/60\n",
      "1094/1094 [==============================] - 7s 7ms/step - loss: 0.1602 - accuracy: 0.9370 - val_loss: 0.7159 - val_accuracy: 0.8738\n",
      "Epoch 18/60\n",
      "1094/1094 [==============================] - 8s 7ms/step - loss: 0.1579 - accuracy: 0.9373 - val_loss: 0.6972 - val_accuracy: 0.8755\n",
      "Epoch 19/60\n",
      "1094/1094 [==============================] - 7s 7ms/step - loss: 0.1564 - accuracy: 0.9382 - val_loss: 0.6852 - val_accuracy: 0.8823\n",
      "Epoch 20/60\n",
      "1094/1094 [==============================] - 8s 7ms/step - loss: 0.1508 - accuracy: 0.9395 - val_loss: 0.6962 - val_accuracy: 0.8788\n",
      "Epoch 21/60\n",
      "1094/1094 [==============================] - 7s 7ms/step - loss: 0.1477 - accuracy: 0.9404 - val_loss: 0.6893 - val_accuracy: 0.8808\n",
      "Epoch 22/60\n",
      "1094/1094 [==============================] - 7s 7ms/step - loss: 0.1458 - accuracy: 0.9410 - val_loss: 0.7524 - val_accuracy: 0.8778\n",
      "Epoch 23/60\n",
      "1094/1094 [==============================] - 7s 7ms/step - loss: 0.1446 - accuracy: 0.9428 - val_loss: 0.7250 - val_accuracy: 0.8826\n",
      "Epoch 24/60\n",
      "1094/1094 [==============================] - 7s 7ms/step - loss: 0.1423 - accuracy: 0.9424 - val_loss: 0.7157 - val_accuracy: 0.8849\n",
      "Epoch 25/60\n",
      "1094/1094 [==============================] - 7s 7ms/step - loss: 0.1394 - accuracy: 0.9432 - val_loss: 0.7118 - val_accuracy: 0.8795\n",
      "Epoch 26/60\n",
      "1094/1094 [==============================] - 7s 7ms/step - loss: 0.1391 - accuracy: 0.9444 - val_loss: 0.7221 - val_accuracy: 0.8751\n",
      "Epoch 27/60\n",
      "1094/1094 [==============================] - 7s 7ms/step - loss: 0.1360 - accuracy: 0.9441 - val_loss: 0.6866 - val_accuracy: 0.8866\n",
      "Epoch 28/60\n",
      "1094/1094 [==============================] - 7s 7ms/step - loss: 0.1354 - accuracy: 0.9448 - val_loss: 0.7654 - val_accuracy: 0.8836\n",
      "Epoch 29/60\n",
      "1094/1094 [==============================] - 8s 7ms/step - loss: 0.1332 - accuracy: 0.9460 - val_loss: 0.7947 - val_accuracy: 0.8778\n",
      "Epoch 30/60\n",
      "1094/1094 [==============================] - 8s 7ms/step - loss: 0.1322 - accuracy: 0.9453 - val_loss: 0.7913 - val_accuracy: 0.8879\n",
      "Epoch 31/60\n",
      "1094/1094 [==============================] - 8s 7ms/step - loss: 0.1305 - accuracy: 0.9465 - val_loss: 0.7748 - val_accuracy: 0.8807\n",
      "Epoch 32/60\n",
      "1094/1094 [==============================] - 7s 7ms/step - loss: 0.1306 - accuracy: 0.9465 - val_loss: 0.8219 - val_accuracy: 0.8849\n",
      "Epoch 33/60\n",
      "1094/1094 [==============================] - 7s 7ms/step - loss: 0.1290 - accuracy: 0.9469 - val_loss: 0.8155 - val_accuracy: 0.8772\n",
      "Epoch 34/60\n",
      "1094/1094 [==============================] - 8s 7ms/step - loss: 0.1279 - accuracy: 0.9476 - val_loss: 0.8298 - val_accuracy: 0.8843\n",
      "Epoch 35/60\n",
      "1094/1094 [==============================] - 8s 7ms/step - loss: 0.1280 - accuracy: 0.9476 - val_loss: 0.8113 - val_accuracy: 0.8792\n",
      "Epoch 36/60\n",
      "1094/1094 [==============================] - 7s 7ms/step - loss: 0.1230 - accuracy: 0.9496 - val_loss: 0.8125 - val_accuracy: 0.8828\n",
      "Epoch 37/60\n",
      "1094/1094 [==============================] - 7s 7ms/step - loss: 0.1241 - accuracy: 0.9487 - val_loss: 0.8149 - val_accuracy: 0.8840\n",
      "Epoch 38/60\n",
      "1094/1094 [==============================] - 7s 7ms/step - loss: 0.1244 - accuracy: 0.9488 - val_loss: 0.8482 - val_accuracy: 0.8809\n",
      "Epoch 39/60\n",
      "1094/1094 [==============================] - 7s 7ms/step - loss: 0.1222 - accuracy: 0.9504 - val_loss: 0.8075 - val_accuracy: 0.8762\n",
      "Epoch 40/60\n",
      "1094/1094 [==============================] - 7s 7ms/step - loss: 0.1215 - accuracy: 0.9500 - val_loss: 0.8652 - val_accuracy: 0.8805\n",
      "Epoch 41/60\n",
      "1094/1094 [==============================] - 7s 7ms/step - loss: 0.1221 - accuracy: 0.9497 - val_loss: 0.8287 - val_accuracy: 0.8831\n",
      "Epoch 42/60\n",
      "1094/1094 [==============================] - 7s 7ms/step - loss: 0.1209 - accuracy: 0.9496 - val_loss: 0.8628 - val_accuracy: 0.8780\n",
      "Epoch 43/60\n",
      "1094/1094 [==============================] - 7s 7ms/step - loss: 0.1183 - accuracy: 0.9514 - val_loss: 0.8618 - val_accuracy: 0.8796\n",
      "Epoch 44/60\n",
      "1094/1094 [==============================] - 7s 7ms/step - loss: 0.1194 - accuracy: 0.9499 - val_loss: 0.8721 - val_accuracy: 0.8752\n",
      "Epoch 45/60\n",
      "1094/1094 [==============================] - 7s 7ms/step - loss: 0.1175 - accuracy: 0.9519 - val_loss: 0.8065 - val_accuracy: 0.8763\n",
      "Epoch 46/60\n",
      "1094/1094 [==============================] - 7s 7ms/step - loss: 0.1159 - accuracy: 0.9519 - val_loss: 0.8527 - val_accuracy: 0.8868\n",
      "Epoch 47/60\n",
      "1094/1094 [==============================] - 7s 7ms/step - loss: 0.1167 - accuracy: 0.9512 - val_loss: 0.8483 - val_accuracy: 0.8820\n",
      "Epoch 48/60\n",
      "1094/1094 [==============================] - 7s 7ms/step - loss: 0.1149 - accuracy: 0.9528 - val_loss: 0.8770 - val_accuracy: 0.8872\n",
      "Epoch 49/60\n",
      "1094/1094 [==============================] - 7s 7ms/step - loss: 0.1134 - accuracy: 0.9537 - val_loss: 0.9120 - val_accuracy: 0.8826\n",
      "Epoch 50/60\n",
      "1094/1094 [==============================] - 7s 7ms/step - loss: 0.1132 - accuracy: 0.9540 - val_loss: 0.9378 - val_accuracy: 0.8816\n",
      "Epoch 51/60\n",
      "1094/1094 [==============================] - 8s 7ms/step - loss: 0.1130 - accuracy: 0.9535 - val_loss: 0.9035 - val_accuracy: 0.8860\n",
      "Epoch 52/60\n",
      "1094/1094 [==============================] - 7s 7ms/step - loss: 0.1175 - accuracy: 0.9521 - val_loss: 0.8997 - val_accuracy: 0.8822\n",
      "Epoch 53/60\n",
      "1094/1094 [==============================] - 7s 7ms/step - loss: 0.1121 - accuracy: 0.9545 - val_loss: 0.9360 - val_accuracy: 0.8819\n",
      "Epoch 54/60\n",
      "1094/1094 [==============================] - 7s 7ms/step - loss: 0.1125 - accuracy: 0.9540 - val_loss: 0.9336 - val_accuracy: 0.8818\n",
      "Epoch 55/60\n",
      "1094/1094 [==============================] - 7s 7ms/step - loss: 0.1093 - accuracy: 0.9554 - val_loss: 0.9468 - val_accuracy: 0.8783\n",
      "Epoch 56/60\n",
      "1094/1094 [==============================] - 7s 7ms/step - loss: 0.1099 - accuracy: 0.9555 - val_loss: 0.9216 - val_accuracy: 0.8831\n",
      "Epoch 57/60\n"
     ]
    },
    {
     "name": "stdout",
     "output_type": "stream",
     "text": [
      "1094/1094 [==============================] - 7s 7ms/step - loss: 0.1081 - accuracy: 0.9556 - val_loss: 0.9744 - val_accuracy: 0.8827\n",
      "Epoch 58/60\n",
      "1094/1094 [==============================] - 7s 7ms/step - loss: 0.1079 - accuracy: 0.9557 - val_loss: 0.9309 - val_accuracy: 0.8707\n",
      "Epoch 59/60\n",
      "1094/1094 [==============================] - 7s 7ms/step - loss: 0.1100 - accuracy: 0.9544 - val_loss: 0.9669 - val_accuracy: 0.8826\n",
      "Epoch 60/60\n",
      "1094/1094 [==============================] - 7s 7ms/step - loss: 0.1057 - accuracy: 0.9561 - val_loss: 0.9260 - val_accuracy: 0.8799\n"
     ]
    }
   ],
   "source": [
    "history = model.fit(train_X,train_Y, epochs=60, batch_size=128, validation_data = (val_X, val_Y),  verbose=1)"
   ]
  },
  {
   "cell_type": "code",
   "execution_count": 20,
   "metadata": {},
   "outputs": [
    {
     "data": {
      "image/png": "[encoded data removed]",
      "text/plain": [
       "<Figure size 432x288 with 1 Axes>"
      ]
     },
     "metadata": {
      "needs_background": "light"
     },
     "output_type": "display_data"
    }
   ],
   "source": [
    "plt.plot(history.history['accuracy'])\n",
    "plt.plot(history.history['val_accuracy'])\n",
    "plt.title('Training Accuracy vs Validation Accuracy')\n",
    "plt.ylabel('Accuracy')\n",
    "plt.xlabel('Epoch')\n",
    "plt.legend(['Train', 'Validation'], loc='upper left')\n",
    "plt.show()"
   ]
  },
  {
   "cell_type": "code",
   "execution_count": 21,
   "metadata": {},
   "outputs": [
    {
     "data": {
      "image/png": "[encoded data removed]",
      "text/plain": [
       "<Figure size 432x288 with 1 Axes>"
      ]
     },
     "metadata": {
      "needs_background": "light"
     },
     "output_type": "display_data"
    }
   ],
   "source": [
    "plt.plot(history.history['loss'])\n",
    "plt.plot(history.history['val_loss'])\n",
    "plt.title('Training Loss vs Validation Loss')\n",
    "plt.ylabel('Loss')\n",
    "plt.xlabel('Epoch')\n",
    "plt.legend(['Train', 'Validation'], loc='upper left')\n",
    "plt.show()"
   ]
  },
  {
   "cell_type": "code",
   "execution_count": 22,
   "metadata": {},
   "outputs": [
    {
     "name": "stdout",
     "output_type": "stream",
     "text": [
      "476/476 [==============================] - 1s 3ms/step - loss: 0.9260 - accuracy: 0.8799\n",
      "Test Loss: 0.9259833097457886\n",
      "Test Accuracy: 0.8798737525939941\n"
     ]
    }
   ],
   "source": [
    "test_loss, test_acc = model.evaluate(val_X, val_Y)\n",
    "\n",
    "print('Test Loss: {}'.format(test_loss))\n",
    "print('Test Accuracy: {}'.format(test_acc))"
   ]
  },
  {
   "cell_type": "code",
   "execution_count": 24,
   "metadata": {},
   "outputs": [
    {
     "name": "stdout",
     "output_type": "stream",
     "text": [
      "119/119 [==============================] - 0s 2ms/step\n"
     ]
    }
   ],
   "source": [
    "y_pred = model.predict(val_X, verbose=1, batch_size=128)"
   ]
  },
  {
   "cell_type": "code",
   "execution_count": 25,
   "metadata": {},
   "outputs": [
    {
     "data": {
      "text/plain": [
       "array([[6.4422409e-16, 7.0301567e-18, 3.1932549e-16, ..., 1.4697480e-13,\n",
       "        1.6836949e-18, 4.6923728e-19],\n",
       "       [2.8044671e-26, 1.0472811e-19, 9.9025959e-22, ..., 4.7919026e-17,\n",
       "        2.3832353e-12, 3.4601302e-22],\n",
       "       [1.0552689e-21, 1.6072774e-28, 2.8571234e-24, ..., 4.8663607e-33,\n",
       "        1.1788569e-26, 1.6153197e-25],\n",
       "       ...,\n",
       "       [5.6588729e-09, 6.3506103e-01, 4.7238949e-08, ..., 5.8714344e-10,\n",
       "        4.8175433e-08, 5.5476185e-10],\n",
       "       [8.6105315e-13, 3.9896801e-12, 2.2172405e-11, ..., 3.2197317e-05,\n",
       "        1.7546994e-07, 3.2330402e-10],\n",
       "       [3.0545675e-09, 1.9063082e-12, 2.5664487e-14, ..., 9.1812871e-19,\n",
       "        3.6013022e-13, 3.6269953e-16]], dtype=float32)"
      ]
     },
     "execution_count": 25,
     "metadata": {},
     "output_type": "execute_result"
    }
   ],
   "source": [
    "y_pred"
   ]
  },
  {
   "cell_type": "code",
   "execution_count": 26,
   "metadata": {},
   "outputs": [],
   "source": [
    "##for i in y_pred:\n",
    " #   print(i)"
   ]
  },
  {
   "cell_type": "code",
   "execution_count": 27,
   "metadata": {},
   "outputs": [],
   "source": [
    "#rounded_y_pred = model.predict_classes(val_X, verbose=1, batch_size=128)"
   ]
  },
  {
   "cell_type": "code",
   "execution_count": 28,
   "metadata": {},
   "outputs": [],
   "source": [
    "#for i in rounded_y_pred:\n",
    " #   print(i)"
   ]
  },
  {
   "cell_type": "code",
   "execution_count": 29,
   "metadata": {},
   "outputs": [],
   "source": [
    "#new_y_pred = (y_pred > 0.5)"
   ]
  },
  {
   "cell_type": "code",
   "execution_count": 30,
   "metadata": {},
   "outputs": [],
   "source": [
    "#new_y_pred"
   ]
  },
  {
   "cell_type": "code",
   "execution_count": 31,
   "metadata": {},
   "outputs": [
    {
     "name": "stdout",
     "output_type": "stream",
     "text": [
      "0.8798737589585114\n"
     ]
    }
   ],
   "source": [
    "from sklearn.metrics import confusion_matrix, classification_report, accuracy_score\n",
    "\n",
    "print(accuracy_score(val_Y.argmax(axis=1), y_pred.argmax(axis=1)))"
   ]
  },
  {
   "cell_type": "code",
   "execution_count": 32,
   "metadata": {},
   "outputs": [
    {
     "name": "stdout",
     "output_type": "stream",
     "text": [
      "              precision    recall  f1-score   support\n",
      "\n",
      "           0       0.96      0.98      0.97       368\n",
      "           1       0.93      0.75      0.83      1000\n",
      "           2       0.93      0.96      0.94      1000\n",
      "           3       0.99      0.99      0.99      1000\n",
      "           4       0.95      0.99      0.97      1000\n",
      "           5       0.99      0.98      0.98      1000\n",
      "           6       0.96      0.98      0.97      1000\n",
      "           7       0.95      0.98      0.97       190\n",
      "           8       0.98      0.97      0.98      1000\n",
      "           9       0.90      0.92      0.91      1000\n",
      "          10       0.89      0.36      0.51       392\n",
      "          11       0.95      0.89      0.92       385\n",
      "          12       0.60      0.98      0.75       168\n",
      "          13       0.95      0.55      0.70       322\n",
      "          14       0.92      0.56      0.70       308\n",
      "          15       0.85      0.97      0.90       324\n",
      "          16       0.78      0.79      0.78       363\n",
      "          17       0.92      0.95      0.93       343\n",
      "          18       0.63      0.55      0.59       381\n",
      "          19       0.52      0.95      0.67       126\n",
      "          20       0.92      0.98      0.95       240\n",
      "          21       0.41      0.85      0.55       210\n",
      "          22       0.97      0.99      0.98       251\n",
      "          23       0.88      0.97      0.92       235\n",
      "          24       0.85      0.98      0.91       175\n",
      "          25       0.57      0.72      0.64       405\n",
      "          26       0.89      0.63      0.74       366\n",
      "          27       0.84      0.90      0.87       168\n",
      "          28       0.86      0.68      0.76       384\n",
      "          29       0.91      0.90      0.91       210\n",
      "          30       0.87      0.99      0.92       224\n",
      "          31       0.98      0.94      0.96       182\n",
      "          32       0.94      0.95      0.95       119\n",
      "          33       0.74      0.93      0.83       189\n",
      "          34       0.70      0.90      0.79       181\n",
      "\n",
      "    accuracy                           0.88     15209\n",
      "   macro avg       0.85      0.87      0.85     15209\n",
      "weighted avg       0.90      0.88      0.88     15209\n",
      "\n"
     ]
    }
   ],
   "source": [
    "print(classification_report(val_Y.argmax(axis=1), y_pred.argmax(axis=1)))"
   ]
  },
  {
   "cell_type": "code",
   "execution_count": 33,
   "metadata": {},
   "outputs": [],
   "source": [
    "#cm = confusion_matrix(val_Y.argmax(axis=1),rounded_y_pred)\n",
    "#print(cm)"
   ]
  },
  {
   "cell_type": "code",
   "execution_count": 34,
   "metadata": {},
   "outputs": [
    {
     "name": "stdout",
     "output_type": "stream",
     "text": [
      "[[362   0   0 ...   0   0   0]\n",
      " [  0 748   0 ...   0   0   0]\n",
      " [  0   0 958 ...   1   1  29]\n",
      " ...\n",
      " [  0   0   0 ... 113   1   1]\n",
      " [  0   0   0 ...   1 176   0]\n",
      " [  0   0  15 ...   1   0 163]]\n"
     ]
    }
   ],
   "source": [
    "cm=confusion_matrix(val_Y.argmax(axis=1), y_pred.argmax(axis=1))\n",
    "print(cm)"
   ]
  },
  {
   "cell_type": "code",
   "execution_count": 36,
   "metadata": {},
   "outputs": [],
   "source": [
    "import itertools\n",
    "def plot_confusion_matrix(cm, classes,\n",
    "                        normalize=False,\n",
    "                        title='Confusion matrix',\n",
    "                        cmap=plt.cm.Blues):\n",
    "    \"\"\"\n",
    "    This function prints and plots the confusion matrix.\n",
    "    Normalization can be applied by setting `normalize=True`.\n",
    "    \"\"\"\n",
    "    plt.imshow(cm, interpolation='nearest', cmap=cmap)\n",
    "    plt.title(title)\n",
    "    plt.colorbar()\n",
    "    tick_marks = np.arange(len(classes))\n",
    "    plt.xticks(tick_marks, classes, rotation=45)\n",
    "    plt.yticks(tick_marks, classes)\n",
    "\n",
    "    if normalize:\n",
    "        cm = cm.astype('float') / cm.sum(axis=1)[:, np.newaxis]\n",
    "        print(\"Normalized confusion matrix\")\n",
    "    else:\n",
    "        print('Confusion matrix, without normalization')\n",
    "\n",
    "    print(cm)\n",
    "\n",
    "    thresh = cm.max() / 2.\n",
    "    for i, j in itertools.product(range(cm.shape[0]), range(cm.shape[1])):\n",
    "        plt.text(j, i, cm[i, j],\n",
    "            horizontalalignment=\"center\",\n",
    "            color=\"white\" if cm[i, j] > thresh else \"black\")\n",
    "        \n",
    "    #labels = [f'{v1}\\n{v2}' for v1, v2 in zip(group_names,group_percentages)]\n",
    "    #labels = np.asarray(labels).reshape(2,2)\n",
    "\n",
    "    #sns.heatmap(cf_matrix, annot = labels, cmap = 'Blues',fmt = '',\n",
    "     #           xticklabels = categories, yticklabels = categories)\n",
    "\n",
    "    plt.tight_layout()\n",
    "    plt.xlabel(\"Predicted values\", fontdict = {'size':18}, labelpad = 10)\n",
    "    plt.ylabel(\"Actual values\"   , fontdict = {'size':18}, labelpad = 10)\n",
    "    plt.title (\"Confusion Matrix\", fontdict = {'size':30}, pad = 20)"
   ]
  },
  {
   "cell_type": "code",
   "execution_count": 37,
   "metadata": {},
   "outputs": [
    {
     "name": "stdout",
     "output_type": "stream",
     "text": [
      "Confusion matrix, without normalization\n",
      "[[362   0   0 ...   0   0   0]\n",
      " [  0 748   0 ...   0   0   0]\n",
      " [  0   0 958 ...   1   1  29]\n",
      " ...\n",
      " [  0   0   0 ... 113   1   1]\n",
      " [  0   0   0 ...   1 176   0]\n",
      " [  0   0  15 ...   1   0 163]]\n"
     ]
    },
    {
     "data": {
      "image/png": "[encoded data removed]",
      "text/plain": [
       "<Figure size 1080x1080 with 2 Axes>"
      ]
     },
     "metadata": {
      "needs_background": "light"
     },
     "output_type": "display_data"
    }
   ],
   "source": [
    "#cnf_matrix = confusion_matrix(val_Y.argmax(axis=1), y_pred.argmax(axis=1))\n",
    "cm_plot_labels = ['0', '1', '2', '3', '4', '5', '6', '7', '8', '9', \n",
    "                  'A', 'B', 'C', 'D', 'E', 'F', 'G', 'H', 'I', 'J',\n",
    "                 'K', 'L', 'M', 'N', 'P', 'Q', 'R', 'S', 'T', 'U', \n",
    "                  'V', 'W', 'X', 'Y', 'Z']\n",
    "plt.figure(figsize=(15,15))\n",
    "plot_confusion_matrix(cm=cm, classes=cm_plot_labels)\n",
    "plt.show()"
   ]
  },
  {
   "cell_type": "markdown",
   "metadata": {},
   "source": [
    "## Testing Stage\n",
    "1. The sort contours function is used to get the correct order of individual characters for correct output extraction. In this case for extracting a single word, a left to right sorting of individual characters is needed.\n",
    "2. The get letters function fetches the list of letters and get word function gets the individual word. "
   ]
  },
  {
   "cell_type": "code",
   "execution_count": 38,
   "metadata": {},
   "outputs": [],
   "source": [
    "def sort_contours(cnts, method=\"left-to-right\"):\n",
    "    reverse = False\n",
    "    i = 0\n",
    "    if method == \"right-to-left\" or method == \"bottom-to-top\":\n",
    "        reverse = True\n",
    "    if method == \"top-to-bottom\" or method == \"bottom-to-top\":\n",
    "        i = 1\n",
    "    boundingBoxes = [cv2.boundingRect(c) for c in cnts]\n",
    "    (cnts, boundingBoxes) = zip(*sorted(zip(cnts, boundingBoxes),\n",
    "    key=lambda b:b[1][i], reverse=reverse))\n",
    "    # return the list of sorted contours and bounding boxes\n",
    "    return (cnts, boundingBoxes)"
   ]
  },
  {
   "cell_type": "code",
   "execution_count": 39,
   "metadata": {},
   "outputs": [],
   "source": [
    "def get_letters(img):\n",
    "    letters = []\n",
    "    image = cv2.imread(img)\n",
    "    gray = cv2.cvtColor(image, cv2.COLOR_BGR2GRAY)\n",
    "    ret,thresh1 = cv2.threshold(gray ,127,255,cv2.THRESH_BINARY_INV)\n",
    "    dilated = cv2.dilate(thresh1, None, iterations=2)\n",
    "\n",
    "    cnts = cv2.findContours(dilated.copy(), cv2.RETR_EXTERNAL,cv2.CHAIN_APPROX_SIMPLE)\n",
    "    cnts = imutils.grab_contours(cnts)\n",
    "    cnts = sort_contours(cnts, method=\"left-to-right\")[0]\n",
    "    # loop over the contours\n",
    "    for c in cnts:\n",
    "        if cv2.contourArea(c) > 10:\n",
    "            (x, y, w, h) = cv2.boundingRect(c)\n",
    "            cv2.rectangle(image, (x, y), (x + w, y + h), (0, 255, 0), 2)\n",
    "        roi = gray[y:y + h, x:x + w]\n",
    "        thresh = cv2.threshold(roi, 0, 255,cv2.THRESH_BINARY_INV | cv2.THRESH_OTSU)[1]\n",
    "        thresh = cv2.resize(thresh, (32, 32), interpolation = cv2.INTER_CUBIC)\n",
    "        thresh = thresh.astype(\"float32\") / 255.0\n",
    "        thresh = np.expand_dims(thresh, axis=-1)\n",
    "        thresh = thresh.reshape(1,32,32,1)\n",
    "        ypred = model.predict(thresh)\n",
    "        ypred = LB.inverse_transform(ypred)\n",
    "        [x] = ypred\n",
    "        letters.append(x)\n",
    "    return letters, image\n",
    "\n",
    "#plt.imshow(image)"
   ]
  },
  {
   "cell_type": "code",
   "execution_count": 40,
   "metadata": {},
   "outputs": [],
   "source": [
    "def get_word(letter):\n",
    "    word = \"\".join(letter)\n",
    "    return word"
   ]
  },
  {
   "cell_type": "code",
   "execution_count": 59,
   "metadata": {},
   "outputs": [
    {
     "name": "stdout",
     "output_type": "stream",
     "text": [
      "BEWES\n"
     ]
    },
    {
     "data": {
      "text/plain": [
       "<matplotlib.image.AxesImage at 0x1b28b9c2460>"
      ]
     },
     "execution_count": 59,
     "metadata": {},
     "output_type": "execute_result"
    },
    {
     "data": {
      "image/png": "[encoded data removed]",
      "text/plain": [
       "<Figure size 432x288 with 1 Axes>"
      ]
     },
     "metadata": {
      "needs_background": "light"
     },
     "output_type": "display_data"
    }
   ],
   "source": [
    "letter,image = get_letters(r'(your drive name):/(your name)/(your folder)/(your folder)\\train_v2\\train\\TRAIN_00003.jpg')\n",
    "word = get_word(letter)\n",
    "print(word)\n",
    "plt.imshow(image)"
   ]
  },
  {
   "cell_type": "code",
   "execution_count": 49,
   "metadata": {},
   "outputs": [
    {
     "name": "stdout",
     "output_type": "stream",
     "text": [
      "R0MAIN\n"
     ]
    },
    {
     "data": {
      "text/plain": [
       "<matplotlib.image.AxesImage at 0x1b28b2e30d0>"
      ]
     },
     "execution_count": 49,
     "metadata": {},
     "output_type": "execute_result"
    },
    {
     "data": {
      "image/png": "[encoded data removed]",
      "text/plain": [
       "<Figure size 432x288 with 1 Axes>"
      ]
     },
     "metadata": {
      "needs_background": "light"
     },
     "output_type": "display_data"
    }
   ],
   "source": [
    "letter,image = get_letters(r'(your drive name):/(your name)/(your folder)/(your folder)\\train_v2\\train\\TRAIN_00020.jpg')\n",
    "word = get_word(letter)\n",
    "print(word)\n",
    "plt.imshow(image)"
   ]
  },
  {
   "cell_type": "code",
   "execution_count": 55,
   "metadata": {},
   "outputs": [
    {
     "name": "stdout",
     "output_type": "stream",
     "text": [
      "MAUPAS\n"
     ]
    },
    {
     "data": {
      "text/plain": [
       "<matplotlib.image.AxesImage at 0x1b28b7098e0>"
      ]
     },
     "execution_count": 55,
     "metadata": {},
     "output_type": "execute_result"
    },
    {
     "data": {
      "image/png": "[encoded data removed]",
      "text/plain": [
       "<Figure size 432x288 with 1 Axes>"
      ]
     },
     "metadata": {
      "needs_background": "light"
     },
     "output_type": "display_data"
    }
   ],
   "source": [
    "letter,image = get_letters(r'(your drive name):/(your name)/(your folder)/(your folder)\\train_v2\\train\\TRAIN_00040.jpg')\n",
    "word = get_word(letter)\n",
    "print(word)\n",
    "plt.imshow(image)"
   ]
  },
  {
   "cell_type": "code",
   "execution_count": 43,
   "metadata": {},
   "outputs": [
    {
     "name": "stdout",
     "output_type": "stream",
     "text": [
      "JE2NUMICHEL\n"
     ]
    },
    {
     "data": {
      "text/plain": [
       "<matplotlib.image.AxesImage at 0x1b28acef7c0>"
      ]
     },
     "execution_count": 43,
     "metadata": {},
     "output_type": "execute_result"
    },
    {
     "data": {
      "image/png": "[encoded data removed]",
      "text/plain": [
       "<Figure size 432x288 with 1 Axes>"
      ]
     },
     "metadata": {
      "needs_background": "light"
     },
     "output_type": "display_data"
    }
   ],
   "source": [
    "letter,image = get_letters(r'(your drive name):/(your name)/(your folder)/(your folder)\\validation_v2\\validation\\VALIDATION_0010.jpg')\n",
    "word = get_word(letter)\n",
    "print(word)\n",
    "plt.imshow(image)"
   ]
  },
  {
   "cell_type": "code",
   "execution_count": 44,
   "metadata": {},
   "outputs": [
    {
     "name": "stdout",
     "output_type": "stream",
     "text": [
      "1ENA\n"
     ]
    },
    {
     "data": {
      "text/plain": [
       "<matplotlib.image.AxesImage at 0x1b28ad801f0>"
      ]
     },
     "execution_count": 44,
     "metadata": {},
     "output_type": "execute_result"
    },
    {
     "data": {
      "image/png": "[encoded data removed]",
      "text/plain": [
       "<Figure size 432x288 with 1 Axes>"
      ]
     },
     "metadata": {
      "needs_background": "light"
     },
     "output_type": "display_data"
    }
   ],
   "source": [
    "letter,image = get_letters(r'(your drive name):/(your name)/(your folder)/(your folder)\\test_v2\\test\\TEST_0003.jpg')\n",
    "word = get_word(letter)\n",
    "print(word)\n",
    "plt.imshow(image)"
   ]
  }
 ],
 "metadata": {
  "kernelspec": {
   "display_name": "Python 3",
   "language": "python",
   "name": "python3"
  },
  "language_info": {
   "codemirror_mode": {
    "name": "ipython",
    "version": 3
   },
   "file_extension": ".py",
   "mimetype": "text/x-python",
   "name": "python",
   "nbconvert_exporter": "python",
   "pygments_lexer": "ipython3",
   "version": "3.8.5"
  }
 },
 "nbformat": 4,
 "nbformat_minor": 4
}
